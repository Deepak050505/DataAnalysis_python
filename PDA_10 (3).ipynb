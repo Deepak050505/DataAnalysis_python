{
 "cells": [
  {
   "cell_type": "code",
   "execution_count": null,
   "id": "5483a821-4d88-4c75-a0ad-f9272b1c8505",
   "metadata": {},
   "outputs": [
    {
     "name": "stdout",
     "output_type": "stream",
     "text": [
      "True\n"
     ]
    }
   ],
   "source": [
    "list1=[1,2,3,4]\n",
    "print(90 not in list1)\n"
   ]
  },
  {
   "cell_type": "code",
   "execution_count": null,
   "id": "931b4bce-849c-4d59-8bf8-d165575889ae",
   "metadata": {},
   "outputs": [
    {
     "name": "stdout",
     "output_type": "stream",
     "text": [
      "19\n"
     ]
    }
   ],
   "source": [
    "a=9\n",
    "b=10\n",
    "print(a+b)"
   ]
  },
  {
   "cell_type": "code",
   "execution_count": null,
   "id": "b3d37603-1e2a-4630-a471-4fbfea10de90",
   "metadata": {},
   "outputs": [],
   "source": [
    "def taxcal(S):\n",
    "    if S>0 and S<10000:\n",
    "        return (5/100)*S\n",
    "    elif S>=10000 and S<50000:\n",
    "        return (10/100)*S\n",
    "    elif S>=50000 and S<200000:\n",
    "        return (15/100)*S\n",
    "    elif S>=200000:\n",
    "        return (20/100)*S\n",
    "    else:\n",
    "        return 0\n"
   ]
  },
  {
   "cell_type": "code",
   "execution_count": null,
   "id": "64e91dd1-083c-43c4-8e38-a2b407441b61",
   "metadata": {},
   "outputs": [
    {
     "data": {
      "text/plain": [
       "40000.0"
      ]
     },
     "execution_count": 17,
     "metadata": {},
     "output_type": "execute_result"
    }
   ],
   "source": [
    "taxcal(200000)"
   ]
  },
  {
   "cell_type": "code",
   "execution_count": null,
   "id": "5a91d25f-50db-481b-b3c9-fdad30f9014a",
   "metadata": {},
   "outputs": [
    {
     "data": {
      "text/plain": [
       "0"
      ]
     },
     "execution_count": 18,
     "metadata": {},
     "output_type": "execute_result"
    }
   ],
   "source": [
    "taxcal(-30000)"
   ]
  },
  {
   "cell_type": "code",
   "execution_count": null,
   "id": "a2ca0c27-95dd-4c5b-8632-81b4d3203309",
   "metadata": {},
   "outputs": [
    {
     "data": {
      "text/plain": [
       "13500.0"
      ]
     },
     "execution_count": 19,
     "metadata": {},
     "output_type": "execute_result"
    }
   ],
   "source": [
    "taxcal(90000)"
   ]
  },
  {
   "cell_type": "code",
   "execution_count": null,
   "id": "96cb5157-0915-477a-9548-155a492d3944",
   "metadata": {},
   "outputs": [
    {
     "name": "stdout",
     "output_type": "stream",
     "text": [
      "26.171874999999996\n",
      "27.900055800111602\n",
      "11.734693877551022\n",
      "14.298378563870855\n"
     ]
    }
   ],
   "source": [
    "w=[67,45,23,50]\n",
    "h=[1.60,1.27,1.40,1.87]\n",
    "for i,j in zip(w,h):\n",
    "    print(i/(j*j))"
   ]
  },
  {
   "cell_type": "code",
   "execution_count": null,
   "id": "68848616-8d38-4765-a14f-a8ae7e293a56",
   "metadata": {},
   "outputs": [
    {
     "name": "stdout",
     "output_type": "stream",
     "text": [
      "26.171874999999996\n",
      "27.900055800111602\n",
      "11.734693877551022\n",
      "14.298378563870855\n"
     ]
    }
   ],
   "source": [
    "for i in range(len(w)):\n",
    "    print(w[i]/(h[i]*h[i]))"
   ]
  },
  {
   "cell_type": "markdown",
   "id": "fdb67dcf-bf26-4371-aadd-15fccc73a3d4",
   "metadata": {},
   "source": [
    "Numpy\n"
   ]
  },
  {
   "cell_type": "code",
   "execution_count": null,
   "id": "dba11a0b-12b6-475a-9017-152d5733f3d3",
   "metadata": {},
   "outputs": [
    {
     "name": "stdout",
     "output_type": "stream",
     "text": [
      "[168 101  67 101]\n"
     ]
    }
   ],
   "source": [
    "import numpy as np\n",
    "ar1= np.array([90,56,12,34])\n",
    "ar2=np.array([78,45,55,67])\n",
    "print(ar1+ar2)"
   ]
  },
  {
   "cell_type": "code",
   "execution_count": null,
   "id": "4cdba28f-d2b0-44fe-b9f6-92d4016f82e4",
   "metadata": {},
   "outputs": [
    {
     "name": "stdout",
     "output_type": "stream",
     "text": [
      "[[0. 0. 0.]\n",
      " [0. 0. 0.]]\n"
     ]
    }
   ],
   "source": [
    "arr1=np.zeros((2,3))\n",
    "print(arr1)"
   ]
  },
  {
   "cell_type": "code",
   "execution_count": null,
   "id": "1c6a25c6-4a07-45ad-a85f-73eadb8562bb",
   "metadata": {},
   "outputs": [
    {
     "name": "stdout",
     "output_type": "stream",
     "text": [
      "[[1. 1. 1.]\n",
      " [1. 1. 1.]]\n"
     ]
    }
   ],
   "source": [
    "arr2=np.ones((2,3))\n",
    "print(arr2)"
   ]
  },
  {
   "cell_type": "code",
   "execution_count": null,
   "id": "b0230c6e-6a9a-4c69-a6a4-a27b20396655",
   "metadata": {},
   "outputs": [
    {
     "name": "stdout",
     "output_type": "stream",
     "text": [
      "[[1. 0. 0.]\n",
      " [0. 1. 0.]\n",
      " [0. 0. 1.]]\n"
     ]
    }
   ],
   "source": [
    "arr3=np.eye(3)\n",
    "print(arr3)"
   ]
  },
  {
   "cell_type": "code",
   "execution_count": null,
   "id": "483c0c12-d7cb-4215-918f-7583387b9f70",
   "metadata": {},
   "outputs": [
    {
     "name": "stdout",
     "output_type": "stream",
     "text": [
      "[[2 3 4]\n",
      " [5 6 8]]\n",
      "2\n",
      "(2, 3)\n"
     ]
    }
   ],
   "source": [
    "arr4=np.array([[2,3,4],[5,6,8]])\n",
    "print(arr4)\n",
    "print(np.ndim(arr4))\n",
    "print(np.shape(arr4))"
   ]
  },
  {
   "cell_type": "code",
   "execution_count": null,
   "id": "83baee56-96ff-43de-a921-f1e7f160a1d0",
   "metadata": {},
   "outputs": [],
   "source": [
    "arr5=np.array([[1,2,3,4,5,6,8,2]])"
   ]
  },
  {
   "cell_type": "code",
   "execution_count": null,
   "id": "5516e494-fbbe-4143-ae4b-aa8ff2deb4f6",
   "metadata": {},
   "outputs": [],
   "source": [
    "arr5=arr5.reshape(4,2)"
   ]
  },
  {
   "cell_type": "code",
   "execution_count": null,
   "id": "b8aec2e9-13d1-46f9-a5ee-8f85af15c377",
   "metadata": {},
   "outputs": [
    {
     "data": {
      "text/plain": [
       "array([[1, 2],\n",
       "       [3, 4],\n",
       "       [5, 6],\n",
       "       [8, 2]])"
      ]
     },
     "execution_count": 38,
     "metadata": {},
     "output_type": "execute_result"
    }
   ],
   "source": [
    "arr5"
   ]
  },
  {
   "cell_type": "code",
   "execution_count": null,
   "id": "568d2608-f365-4997-9331-1ed53c4107e5",
   "metadata": {},
   "outputs": [],
   "source": [
    "arr6=np.array([[1,2,3,4,5,6,8,2]])"
   ]
  },
  {
   "cell_type": "code",
   "execution_count": null,
   "id": "f97a7a71-fce7-4fae-ad46-529a7b9e24e4",
   "metadata": {},
   "outputs": [],
   "source": [
    "arr6.resize(4,2)"
   ]
  },
  {
   "cell_type": "code",
   "execution_count": null,
   "id": "6420824c-4379-494c-803a-6f3b4e9da7fc",
   "metadata": {},
   "outputs": [
    {
     "data": {
      "text/plain": [
       "array([[1, 2],\n",
       "       [3, 4],\n",
       "       [5, 6],\n",
       "       [8, 2]])"
      ]
     },
     "execution_count": 42,
     "metadata": {},
     "output_type": "execute_result"
    }
   ],
   "source": [
    "arr6"
   ]
  },
  {
   "cell_type": "code",
   "execution_count": null,
   "id": "f19ab2e1-ddc3-46ef-9370-d9ffeb1f5c5c",
   "metadata": {},
   "outputs": [
    {
     "name": "stdout",
     "output_type": "stream",
     "text": [
      "[[10 11 12 13 14]\n",
      " [15 16 17 18 19]\n",
      " [20 21 22 23 24]\n",
      " [25 26 27 28 29]\n",
      " [30 31 32 33 34]\n",
      " [35 36 37 38 39]\n",
      " [40 41 42 43 44]\n",
      " [45 46 47 48 49]]\n",
      "(8, 5)\n"
     ]
    }
   ],
   "source": [
    "arr7=np.arange(10,50).reshape(8,5)\n",
    "print(arr7)\n",
    "print(np.shape(arr7))"
   ]
  },
  {
   "cell_type": "code",
   "execution_count": null,
   "id": "f2852f86-aeea-440d-bc06-063416e06379",
   "metadata": {},
   "outputs": [
    {
     "name": "stdout",
     "output_type": "stream",
     "text": [
      "[ 13  26  39  52  65  78  91 104 117 130 143 156 169 182 195 208 221 234\n",
      " 247 260 273 286 299 312 325 338 351 364 377 390 403 416 429 442 455 468\n",
      " 481 494 507 520 533 546 559 572 585 598 611 624 637 650 663 676 689 702\n",
      " 715 728 741 754 767 780 793 806 819 832 845 858 871 884 897 910 923 936\n",
      " 949 962 975 988]\n",
      "(76,)\n"
     ]
    }
   ],
   "source": [
    "arr8=np.arange(13,1001,13)\n",
    "print(arr8)\n",
    "print(np.shape(arr8))"
   ]
  },
  {
   "cell_type": "code",
   "execution_count": null,
   "id": "f3d1235e-03b8-4fa9-a4a3-b01a7149b28d",
   "metadata": {},
   "outputs": [
    {
     "name": "stdout",
     "output_type": "stream",
     "text": [
      "[  7  14  21  28  35  42  49  56  63  70  77  84  91  98 105 112 119 126\n",
      " 133 140 147 154 161 168 175 182 189 196 203 210 217 224 231 238 245 252\n",
      " 259 266 273 280 287 294 301 308 315 322 329 336 343 350 357 364 371 378\n",
      " 385 392 399 406 413 420 427 434 441 448 455 462 469 476 483 490 497 504\n",
      " 511 518 525 532 539 546 553 560 567 574 581 588 595 602 609 616 623 630\n",
      " 637 644 651 658 665 672 679 686 693 700]\n"
     ]
    }
   ],
   "source": [
    "mult_seven=np.arange(7,701,7)\n",
    "print(mult_seven)\n"
   ]
  },
  {
   "cell_type": "code",
   "execution_count": null,
   "id": "4bb3a4c9-fc9e-42bf-860b-00115ae8e2bf",
   "metadata": {},
   "outputs": [
    {
     "name": "stdout",
     "output_type": "stream",
     "text": [
      "[2.  3.2 4.4 5.6 6.8 8. ]\n"
     ]
    }
   ],
   "source": [
    "arr9=np.linspace(2,8,6)\n",
    "print(arr9)"
   ]
  },
  {
   "cell_type": "code",
   "execution_count": null,
   "id": "2590a4b4-d2fc-4fc2-961c-282f0a57db26",
   "metadata": {},
   "outputs": [
    {
     "name": "stdout",
     "output_type": "stream",
     "text": [
      "[[[1 2 3]\n",
      "  [5 6 7]]\n",
      "\n",
      " [[2 4 5]\n",
      "  [5 6 7]]]\n",
      "(2, 2, 3)\n",
      "3\n"
     ]
    }
   ],
   "source": [
    "arr10=np.array( [ [[1,2,3],[5,6,7]],[[2,4,5],[5,6,7]] ] )\n",
    "print(arr10)\n",
    "print(np.shape(arr10))\n",
    "print(np.ndim(arr10))"
   ]
  },
  {
   "cell_type": "markdown",
   "id": "41d41c8d-f106-4903-b41d-8286a12dd563",
   "metadata": {},
   "source": [
    "Matrix Operations"
   ]
  },
  {
   "cell_type": "code",
   "execution_count": null,
   "id": "9b4a1398-bb50-4558-a08b-4026fb76f4f9",
   "metadata": {},
   "outputs": [
    {
     "name": "stdout",
     "output_type": "stream",
     "text": [
      "Matrix 1: \n",
      " [[2 3]\n",
      " [4 5]]\n",
      "Matrix 2: \n",
      " [[4 5]\n",
      " [3 1]]\n"
     ]
    }
   ],
   "source": [
    "mat1=np.array([2,3,4,5]).reshape(2,2)\n",
    "mat2=np.array([4,5,3,1]).reshape(2,2)\n",
    "print(\"Matrix 1: \\n\",mat1)\n",
    "print(\"Matrix 2: \\n\",mat2)"
   ]
  },
  {
   "cell_type": "code",
   "execution_count": null,
   "id": "b01c337f-17ba-4b01-8043-b0045f3b0131",
   "metadata": {},
   "outputs": [
    {
     "name": "stdout",
     "output_type": "stream",
     "text": [
      "[[ 8 15]\n",
      " [12  5]]\n"
     ]
    }
   ],
   "source": [
    "print(mat1*mat2)"
   ]
  },
  {
   "cell_type": "code",
   "execution_count": null,
   "id": "8c52a5fb-a746-4f8d-811f-d079aa3aaea4",
   "metadata": {},
   "outputs": [
    {
     "name": "stdout",
     "output_type": "stream",
     "text": [
      "[[17 13]\n",
      " [31 25]]\n"
     ]
    }
   ],
   "source": [
    "print(mat1.dot(mat2))"
   ]
  },
  {
   "cell_type": "code",
   "execution_count": null,
   "id": "a0598a2c-7e6c-4cd5-b69a-f4b23fe8e1dc",
   "metadata": {},
   "outputs": [
    {
     "name": "stdout",
     "output_type": "stream",
     "text": [
      "[[17 13]\n",
      " [31 25]]\n"
     ]
    }
   ],
   "source": [
    "print(mat1@mat2)\n"
   ]
  },
  {
   "cell_type": "code",
   "execution_count": null,
   "id": "84726a28-926e-411e-999e-364bd98c9953",
   "metadata": {},
   "outputs": [
    {
     "name": "stdout",
     "output_type": "stream",
     "text": [
      "[[-2.5  1.5]\n",
      " [ 2.  -1. ]]\n"
     ]
    }
   ],
   "source": [
    "print(np.linalg.inv(mat1))"
   ]
  },
  {
   "cell_type": "code",
   "execution_count": null,
   "id": "9fa0043d-3976-4f0e-a56e-7e9c659f7dec",
   "metadata": {},
   "outputs": [
    {
     "name": "stdout",
     "output_type": "stream",
     "text": [
      "[[-0.09090909  0.45454545]\n",
      " [ 0.27272727 -0.36363636]]\n"
     ]
    }
   ],
   "source": [
    "print(np.linalg.inv(mat2))"
   ]
  },
  {
   "cell_type": "markdown",
   "id": "cc157c54-1d47-45e0-8700-4bf5003a1229",
   "metadata": {},
   "source": [
    "Statistics "
   ]
  },
  {
   "cell_type": "code",
   "execution_count": null,
   "id": "2a49704f-2a11-4c56-95b0-646fac8c5011",
   "metadata": {},
   "outputs": [
    {
     "name": "stdout",
     "output_type": "stream",
     "text": [
      "53.8\n"
     ]
    }
   ],
   "source": [
    "arr1=np.array([83,34,53,23,76])\n",
    "print(np.mean(arr1))"
   ]
  },
  {
   "cell_type": "code",
   "execution_count": null,
   "id": "ede7d400-128e-4468-9f9a-7274693e0f45",
   "metadata": {},
   "outputs": [
    {
     "name": "stdout",
     "output_type": "stream",
     "text": [
      "23.181026724457222\n"
     ]
    }
   ],
   "source": [
    "print(np.std(arr1))"
   ]
  },
  {
   "cell_type": "code",
   "execution_count": null,
   "id": "6e71fc2f-9a34-47f1-983a-752ef532be70",
   "metadata": {},
   "outputs": [
    {
     "name": "stdout",
     "output_type": "stream",
     "text": [
      "53.0\n"
     ]
    }
   ],
   "source": [
    "print(np.median(arr1))"
   ]
  },
  {
   "cell_type": "code",
   "execution_count": null,
   "id": "58233844-76f0-49e3-8e4f-19744af740ee",
   "metadata": {},
   "outputs": [
    {
     "name": "stdout",
     "output_type": "stream",
     "text": [
      "537.36\n"
     ]
    }
   ],
   "source": [
    "print(np.var(arr1))"
   ]
  },
  {
   "cell_type": "markdown",
   "id": "98d5092b-1458-44d0-b9a5-f691d9013345",
   "metadata": {},
   "source": [
    "Trigonometry"
   ]
  },
  {
   "cell_type": "code",
   "execution_count": null,
   "id": "e76147fb-aa97-49e2-bc7c-789bf29bc0db",
   "metadata": {},
   "outputs": [
    {
     "name": "stdout",
     "output_type": "stream",
     "text": [
      "3.141592653589793\n"
     ]
    }
   ],
   "source": [
    "print(np.pi)"
   ]
  },
  {
   "cell_type": "code",
   "execution_count": null,
   "id": "ec517d4f-14d5-44aa-b3b3-d14d8c8065e1",
   "metadata": {},
   "outputs": [
    {
     "name": "stdout",
     "output_type": "stream",
     "text": [
      "0.8939966636005579\n",
      "-0.9880316240928618\n",
      "0.8509035245341184\n"
     ]
    }
   ],
   "source": [
    "rad = [90,30,45]\n",
    "for i in rad:\n",
    "    print(np.sin(i))"
   ]
  },
  {
   "cell_type": "markdown",
   "id": "b2f5f5b8",
   "metadata": {},
   "source": [
    "Arthemetic Operation"
   ]
  },
  {
   "cell_type": "code",
   "execution_count": null,
   "id": "6f0f6d61",
   "metadata": {},
   "outputs": [],
   "source": [
    "a=np.array({8,9,1})\n",
    "b=np.array([2,5,8])\n",
    "print(np.sum((a,b)))"
   ]
  },
  {
   "cell_type": "code",
   "execution_count": null,
   "id": "cbcb9e1f",
   "metadata": {},
   "outputs": [],
   "source": []
  }
 ],
 "metadata": {
  "kernelspec": {
   "display_name": "Python 3 (ipykernel)",
   "language": "python",
   "name": "python3"
  },
  "language_info": {
   "codemirror_mode": {
    "name": "ipython",
    "version": 3
   },
   "file_extension": ".py",
   "mimetype": "text/x-python",
   "name": "python",
   "nbconvert_exporter": "python",
   "pygments_lexer": "ipython3",
   "version": "3.11.7"
  }
 },
 "nbformat": 4,
 "nbformat_minor": 5
}
